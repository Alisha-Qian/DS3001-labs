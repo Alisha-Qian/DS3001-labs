{
  "cells": [
    {
      "cell_type": "markdown",
      "metadata": {
        "id": "2QugO8ouypkx"
      },
      "source": [
        "## PCA and Text Analysis\n",
        "\n",
        "This assignment involves processing real e-mails, some of which are scams. Some of these scam e-mails have some offensive content. I don't think anything is worse than R-rated, but I just want to warn you that if you start reading the e-mail text, you might read something offensive. If that's a problem, feel free to e-mail me and we can talk about it more or you can skip the assignment.  "
      ]
    },
    {
      "cell_type": "markdown",
      "metadata": {
        "id": "Ev5pfh1sypk0"
      },
      "source": [
        "### Q1.\n",
        "\n",
        "Open the `Phishing_Email.parquet` data. It is available at `https://data434.s3.us-east-2.amazonaws.com/Phishing_Email.parquet`, and you can download it directly using Pandas by providing that URL: `df = pd.read_parquet('https://data434.s3.us-east-2.amazonaws.com/Phishing_Email.parquet')`.\n",
        "\n",
        "We just want to look at the first step of cleaning text data, so you can get an idea of how it works. The `Email Text` variable contains the actual text of the email and the `Email Type` takes the value `Phishing Email` or `Safe Email`. We want to predict which emails are phishing emails from their contents.\n",
        "\n",
        "Use the `str.split()` method to break the `Phishing Email` values into **tokens**: The individual words or symbols that create text data like emails. Natural Language Processing is primarily about analyzing the frequency and co-occurrence of tokens. Print the results of your split and examine it.\n",
        "\n",
        "In words, how would you clean the tokens and use them to predict whether the email is a phishing scam or not? A short summary of the kinds of tasks you would do and how you would run a predictive algorithm is fine."
      ]
    },
    {
      "cell_type": "code",
      "source": [
        "import numpy as np\n",
        "import pandas as pd\n",
        "import pickle\n",
        "from collections import Counter\n",
        "from multiprocessing.pool import Pool\n",
        "from sklearn.decomposition import PCA\n",
        "from sklearn.linear_model import LinearRegression\n",
        "from sklearn.model_selection import train_test_split\n",
        "from sklearn.metrics import r2_score\n",
        "import seaborn as sns\n",
        "import matplotlib.pyplot as plt\n",
        "\n",
        "\n",
        "#df = pd.read_csv('Phishing_Email.csv')\n",
        "df = pd.read_parquet('https://data434.s3.us-east-2.amazonaws.com/Phishing_Email.parquet')\n",
        "tokens = df['Email Text'].str.split()\n",
        "tokens.head()"
      ],
      "metadata": {
        "id": "aWCnVBMUzAVb",
        "outputId": "035a95cf-410f-4729-a82a-fffbbee6f4eb",
        "colab": {
          "base_uri": "https://localhost:8080/",
          "height": 241
        }
      },
      "execution_count": 1,
      "outputs": [
        {
          "output_type": "execute_result",
          "data": {
            "text/plain": [
              "0    [re, :, 6, ., 1100, ,, disc, :, uniformitarian...\n",
              "1    [the, other, side, of, *, galicismos, *, *, ga...\n",
              "2    [re, :, equistar, deal, tickets, are, you, sti...\n",
              "3    [Hello, I, am, your, hot, lil, horny, toy., I,...\n",
              "4    [software, at, incredibly, low, prices, (, 86,...\n",
              "Name: Email Text, dtype: object"
            ],
            "text/html": [
              "<div>\n",
              "<style scoped>\n",
              "    .dataframe tbody tr th:only-of-type {\n",
              "        vertical-align: middle;\n",
              "    }\n",
              "\n",
              "    .dataframe tbody tr th {\n",
              "        vertical-align: top;\n",
              "    }\n",
              "\n",
              "    .dataframe thead th {\n",
              "        text-align: right;\n",
              "    }\n",
              "</style>\n",
              "<table border=\"1\" class=\"dataframe\">\n",
              "  <thead>\n",
              "    <tr style=\"text-align: right;\">\n",
              "      <th></th>\n",
              "      <th>Email Text</th>\n",
              "    </tr>\n",
              "  </thead>\n",
              "  <tbody>\n",
              "    <tr>\n",
              "      <th>0</th>\n",
              "      <td>[re, :, 6, ., 1100, ,, disc, :, uniformitarian...</td>\n",
              "    </tr>\n",
              "    <tr>\n",
              "      <th>1</th>\n",
              "      <td>[the, other, side, of, *, galicismos, *, *, ga...</td>\n",
              "    </tr>\n",
              "    <tr>\n",
              "      <th>2</th>\n",
              "      <td>[re, :, equistar, deal, tickets, are, you, sti...</td>\n",
              "    </tr>\n",
              "    <tr>\n",
              "      <th>3</th>\n",
              "      <td>[Hello, I, am, your, hot, lil, horny, toy., I,...</td>\n",
              "    </tr>\n",
              "    <tr>\n",
              "      <th>4</th>\n",
              "      <td>[software, at, incredibly, low, prices, (, 86,...</td>\n",
              "    </tr>\n",
              "  </tbody>\n",
              "</table>\n",
              "</div><br><label><b>dtype:</b> object</label>"
            ]
          },
          "metadata": {},
          "execution_count": 1
        }
      ]
    },
    {
      "cell_type": "markdown",
      "source": [
        "I would get rid of irrelevant characters like punctuation and common words like sentence articles. I would then use these tokens as features and use PCA to reduce the number of dimensions and then use these tokens to help predict if an email is a scam by seeing if those tokens are present in the email or not and use a linear model."
      ],
      "metadata": {
        "id": "Nd9GdLRbzjCp"
      }
    },
    {
      "cell_type": "markdown",
      "metadata": {
        "id": "vaSBc_Irypk1"
      },
      "source": [
        "### Q2.\n",
        "\n",
        "I aggregated all the emails into a single vector, and removed the punctuation and very common words (e.g. \"the\"). Run the below code chunk to open it, and use the Counter class to look at the most common words:"
      ]
    },
    {
      "cell_type": "code",
      "execution_count": 3,
      "metadata": {
        "id": "J6dZlKBQypk1"
      },
      "outputs": [],
      "source": [
        "with open('all_tokens.pickle', 'rb') as file:\n",
        "    all_tokens = pickle.load(file)\n",
        "\n",
        "from collections import Counter\n",
        "token_count = Counter(all_tokens)\n",
        "token_freq = token_count.most_common()"
      ]
    },
    {
      "cell_type": "markdown",
      "metadata": {
        "id": "7d3Mam05ypk3"
      },
      "source": [
        "Plot a histogram of the occurrences of tokens. What do you notice about the frequency of occurrence of different tokens? How does it look?"
      ]
    },
    {
      "cell_type": "code",
      "source": [
        "gdf = pd.DataFrame(token_freq,columns=['token','count'])\n",
        "gdf['count'].hist(grid=False,bins=100)"
      ],
      "metadata": {
        "id": "u467s-Af09Ql",
        "outputId": "53983e65-0e07-41fe-dcd6-fe0bcb0a3041",
        "colab": {
          "base_uri": "https://localhost:8080/",
          "height": 447
        }
      },
      "execution_count": 4,
      "outputs": [
        {
          "output_type": "execute_result",
          "data": {
            "text/plain": [
              "<Axes: >"
            ]
          },
          "metadata": {},
          "execution_count": 4
        },
        {
          "output_type": "display_data",
          "data": {
            "text/plain": [
              "<Figure size 640x480 with 1 Axes>"
            ],
            "image/png": "[encoded data removed]"
          },
          "metadata": {}
        }
      ]
    },
    {
      "cell_type": "markdown",
      "source": [
        "One of the tokens has a lottt of occurances and may just be a very common word while the rest of the tokens do not seem to appear very many times at all."
      ],
      "metadata": {
        "id": "XZQ7P_3y1VVC"
      }
    },
    {
      "cell_type": "markdown",
      "metadata": {
        "id": "E6klvyp7ypk3"
      },
      "source": [
        "### Q3.\n",
        "\n",
        "Load `Phishing_clean.parquet`. This is the text from the e-mails broken into the most common 2,711 tokens and one-hot-encoded as features/covariates. So each row is an e-mail, the `Email Type` takes the value 1 if it's a scam and 0 otherwise, and every other column is a word or symbol that occurs in at least 15 e-mails.\n",
        "\n",
        "1. Perform an 80/20 train-test split of the data.\n",
        "2. Run a regression of $y$ on the one-hot-encoded emails. What is the $R^2$ on the test set? On the training set?\n",
        "3. What words have the largest coefficients in absolute value and most strongly influence predictions?"
      ]
    },
    {
      "cell_type": "code",
      "source": [
        "df = pd.read_parquet('Phishing_clean.parquet')\n",
        "\n",
        "y = df['Email Type']\n",
        "X = df.drop('Email Type',axis=1)\n",
        "\n",
        "## 1.\n",
        "X_train, X_test, y_train, y_test = train_test_split(X, y,\n",
        "                                                    test_size=0.2, random_state=125)\n",
        "\n",
        "## 2.\n",
        "lm_0 = LinearRegression(fit_intercept=False).fit(X_train,y_train)\n",
        "y_hat_test_0 = lm_0.predict(X_test)\n",
        "y_hat_train_0 = lm_0.predict(X_train)\n",
        "print('train: ', r2_score(y_hat_train_0,y_train) )\n",
        "print('test: ', r2_score(y_hat_test_0,y_test) )"
      ],
      "metadata": {
        "id": "g9vc55pg1WNg",
        "outputId": "dbef7cab-5ae5-41f0-f822-82a3b69d44eb",
        "colab": {
          "base_uri": "https://localhost:8080/"
        }
      },
      "execution_count": 8,
      "outputs": [
        {
          "output_type": "stream",
          "name": "stdout",
          "text": [
            "train:  0.6210107280960204\n",
            "test:  -0.00026838432670373\n"
          ]
        }
      ]
    },
    {
      "cell_type": "code",
      "source": [
        "\n",
        "## 3.\n",
        "\n",
        "rdf = pd.DataFrame({'variable':lm_0.feature_names_in_ , 'value':lm_0.coef_})\n",
        "rdf['abs'] = np.abs(rdf['value'])\n",
        "rdf.sort_values('abs',ascending=False)"
      ],
      "metadata": {
        "id": "dE19FF0F1qbo",
        "outputId": "c39171c6-8351-4997-c42f-7ebcc471dedd",
        "colab": {
          "base_uri": "https://localhost:8080/",
          "height": 423
        }
      },
      "execution_count": 9,
      "outputs": [
        {
          "output_type": "execute_result",
          "data": {
            "text/plain": [
              "        variable         value           abs\n",
              "710         1997 -1.415784e+13  1.415784e+13\n",
              "421         1995  1.158467e+13  1.158467e+13\n",
              "1133         19, -1.025713e+13  1.025713e+13\n",
              "340         2005 -9.773947e+12  9.773947e+12\n",
              "1146       -0400 -8.062341e+12  8.062341e+12\n",
              "...          ...           ...           ...\n",
              "1399       union  2.822876e-04  2.822876e-04\n",
              "565         east -2.746582e-04  2.746582e-04\n",
              "2268     ravages -1.068115e-04  1.068115e-04\n",
              "457          due -6.484985e-05  6.484985e-05\n",
              "2709  leadership -6.103516e-05  6.103516e-05\n",
              "\n",
              "[2711 rows x 3 columns]"
            ],
            "text/html": [
              "\n",
              "  <div id=\"df-570e752f-6c56-4cc6-ba78-664e059bf6ed\" class=\"colab-df-container\">\n",
              "    <div>\n",
              "<style scoped>\n",
              "    .dataframe tbody tr th:only-of-type {\n",
              "        vertical-align: middle;\n",
              "    }\n",
              "\n",
              "    .dataframe tbody tr th {\n",
              "        vertical-align: top;\n",
              "    }\n",
              "\n",
              "    .dataframe thead th {\n",
              "        text-align: right;\n",
              "    }\n",
              "</style>\n",
              "<table border=\"1\" class=\"dataframe\">\n",
              "  <thead>\n",
              "    <tr style=\"text-align: right;\">\n",
              "      <th></th>\n",
              "      <th>variable</th>\n",
              "      <th>value</th>\n",
              "      <th>abs</th>\n",
              "    </tr>\n",
              "  </thead>\n",
              "  <tbody>\n",
              "    <tr>\n",
              "      <th>710</th>\n",
              "      <td>1997</td>\n",
              "      <td>-1.415784e+13</td>\n",
              "      <td>1.415784e+13</td>\n",
              "    </tr>\n",
              "    <tr>\n",
              "      <th>421</th>\n",
              "      <td>1995</td>\n",
              "      <td>1.158467e+13</td>\n",
              "      <td>1.158467e+13</td>\n",
              "    </tr>\n",
              "    <tr>\n",
              "      <th>1133</th>\n",
              "      <td>19,</td>\n",
              "      <td>-1.025713e+13</td>\n",
              "      <td>1.025713e+13</td>\n",
              "    </tr>\n",
              "    <tr>\n",
              "      <th>340</th>\n",
              "      <td>2005</td>\n",
              "      <td>-9.773947e+12</td>\n",
              "      <td>9.773947e+12</td>\n",
              "    </tr>\n",
              "    <tr>\n",
              "      <th>1146</th>\n",
              "      <td>-0400</td>\n",
              "      <td>-8.062341e+12</td>\n",
              "      <td>8.062341e+12</td>\n",
              "    </tr>\n",
              "    <tr>\n",
              "      <th>...</th>\n",
              "      <td>...</td>\n",
              "      <td>...</td>\n",
              "      <td>...</td>\n",
              "    </tr>\n",
              "    <tr>\n",
              "      <th>1399</th>\n",
              "      <td>union</td>\n",
              "      <td>2.822876e-04</td>\n",
              "      <td>2.822876e-04</td>\n",
              "    </tr>\n",
              "    <tr>\n",
              "      <th>565</th>\n",
              "      <td>east</td>\n",
              "      <td>-2.746582e-04</td>\n",
              "      <td>2.746582e-04</td>\n",
              "    </tr>\n",
              "    <tr>\n",
              "      <th>2268</th>\n",
              "      <td>ravages</td>\n",
              "      <td>-1.068115e-04</td>\n",
              "      <td>1.068115e-04</td>\n",
              "    </tr>\n",
              "    <tr>\n",
              "      <th>457</th>\n",
              "      <td>due</td>\n",
              "      <td>-6.484985e-05</td>\n",
              "      <td>6.484985e-05</td>\n",
              "    </tr>\n",
              "    <tr>\n",
              "      <th>2709</th>\n",
              "      <td>leadership</td>\n",
              "      <td>-6.103516e-05</td>\n",
              "      <td>6.103516e-05</td>\n",
              "    </tr>\n",
              "  </tbody>\n",
              "</table>\n",
              "<p>2711 rows × 3 columns</p>\n",
              "</div>\n",
              "    <div class=\"colab-df-buttons\">\n",
              "\n",
              "  <div class=\"colab-df-container\">\n",
              "    <button class=\"colab-df-convert\" onclick=\"convertToInteractive('df-570e752f-6c56-4cc6-ba78-664e059bf6ed')\"\n",
              "            title=\"Convert this dataframe to an interactive table.\"\n",
              "            style=\"display:none;\">\n",
              "\n",
              "  <svg xmlns=\"http://www.w3.org/2000/svg\" height=\"24px\" viewBox=\"0 -960 960 960\">\n",
              "    <path d=\"M120-120v-720h720v720H120Zm60-500h600v-160H180v160Zm220 220h160v-160H400v160Zm0 220h160v-160H400v160ZM180-400h160v-160H180v160Zm440 0h160v-160H620v160ZM180-180h160v-160H180v160Zm440 0h160v-160H620v160Z\"/>\n",
              "  </svg>\n",
              "    </button>\n",
              "\n",
              "  <style>\n",
              "    .colab-df-container {\n",
              "      display:flex;\n",
              "      gap: 12px;\n",
              "    }\n",
              "\n",
              "    .colab-df-convert {\n",
              "      background-color: #E8F0FE;\n",
              "      border: none;\n",
              "      border-radius: 50%;\n",
              "      cursor: pointer;\n",
              "      display: none;\n",
              "      fill: #1967D2;\n",
              "      height: 32px;\n",
              "      padding: 0 0 0 0;\n",
              "      width: 32px;\n",
              "    }\n",
              "\n",
              "    .colab-df-convert:hover {\n",
              "      background-color: #E2EBFA;\n",
              "      box-shadow: 0px 1px 2px rgba(60, 64, 67, 0.3), 0px 1px 3px 1px rgba(60, 64, 67, 0.15);\n",
              "      fill: #174EA6;\n",
              "    }\n",
              "\n",
              "    .colab-df-buttons div {\n",
              "      margin-bottom: 4px;\n",
              "    }\n",
              "\n",
              "    [theme=dark] .colab-df-convert {\n",
              "      background-color: #3B4455;\n",
              "      fill: #D2E3FC;\n",
              "    }\n",
              "\n",
              "    [theme=dark] .colab-df-convert:hover {\n",
              "      background-color: #434B5C;\n",
              "      box-shadow: 0px 1px 3px 1px rgba(0, 0, 0, 0.15);\n",
              "      filter: drop-shadow(0px 1px 2px rgba(0, 0, 0, 0.3));\n",
              "      fill: #FFFFFF;\n",
              "    }\n",
              "  </style>\n",
              "\n",
              "    <script>\n",
              "      const buttonEl =\n",
              "        document.querySelector('#df-570e752f-6c56-4cc6-ba78-664e059bf6ed button.colab-df-convert');\n",
              "      buttonEl.style.display =\n",
              "        google.colab.kernel.accessAllowed ? 'block' : 'none';\n",
              "\n",
              "      async function convertToInteractive(key) {\n",
              "        const element = document.querySelector('#df-570e752f-6c56-4cc6-ba78-664e059bf6ed');\n",
              "        const dataTable =\n",
              "          await google.colab.kernel.invokeFunction('convertToInteractive',\n",
              "                                                    [key], {});\n",
              "        if (!dataTable) return;\n",
              "\n",
              "        const docLinkHtml = 'Like what you see? Visit the ' +\n",
              "          '<a target=\"_blank\" href=https://colab.research.google.com/notebooks/data_table.ipynb>data table notebook</a>'\n",
              "          + ' to learn more about interactive tables.';\n",
              "        element.innerHTML = '';\n",
              "        dataTable['output_type'] = 'display_data';\n",
              "        await google.colab.output.renderOutput(dataTable, element);\n",
              "        const docLink = document.createElement('div');\n",
              "        docLink.innerHTML = docLinkHtml;\n",
              "        element.appendChild(docLink);\n",
              "      }\n",
              "    </script>\n",
              "  </div>\n",
              "\n",
              "\n",
              "<div id=\"df-38e80b64-b448-4fe2-954f-549573452946\">\n",
              "  <button class=\"colab-df-quickchart\" onclick=\"quickchart('df-38e80b64-b448-4fe2-954f-549573452946')\"\n",
              "            title=\"Suggest charts\"\n",
              "            style=\"display:none;\">\n",
              "\n",
              "<svg xmlns=\"http://www.w3.org/2000/svg\" height=\"24px\"viewBox=\"0 0 24 24\"\n",
              "     width=\"24px\">\n",
              "    <g>\n",
              "        <path d=\"M19 3H5c-1.1 0-2 .9-2 2v14c0 1.1.9 2 2 2h14c1.1 0 2-.9 2-2V5c0-1.1-.9-2-2-2zM9 17H7v-7h2v7zm4 0h-2V7h2v10zm4 0h-2v-4h2v4z\"/>\n",
              "    </g>\n",
              "</svg>\n",
              "  </button>\n",
              "\n",
              "<style>\n",
              "  .colab-df-quickchart {\n",
              "      --bg-color: #E8F0FE;\n",
              "      --fill-color: #1967D2;\n",
              "      --hover-bg-color: #E2EBFA;\n",
              "      --hover-fill-color: #174EA6;\n",
              "      --disabled-fill-color: #AAA;\n",
              "      --disabled-bg-color: #DDD;\n",
              "  }\n",
              "\n",
              "  [theme=dark] .colab-df-quickchart {\n",
              "      --bg-color: #3B4455;\n",
              "      --fill-color: #D2E3FC;\n",
              "      --hover-bg-color: #434B5C;\n",
              "      --hover-fill-color: #FFFFFF;\n",
              "      --disabled-bg-color: #3B4455;\n",
              "      --disabled-fill-color: #666;\n",
              "  }\n",
              "\n",
              "  .colab-df-quickchart {\n",
              "    background-color: var(--bg-color);\n",
              "    border: none;\n",
              "    border-radius: 50%;\n",
              "    cursor: pointer;\n",
              "    display: none;\n",
              "    fill: var(--fill-color);\n",
              "    height: 32px;\n",
              "    padding: 0;\n",
              "    width: 32px;\n",
              "  }\n",
              "\n",
              "  .colab-df-quickchart:hover {\n",
              "    background-color: var(--hover-bg-color);\n",
              "    box-shadow: 0 1px 2px rgba(60, 64, 67, 0.3), 0 1px 3px 1px rgba(60, 64, 67, 0.15);\n",
              "    fill: var(--button-hover-fill-color);\n",
              "  }\n",
              "\n",
              "  .colab-df-quickchart-complete:disabled,\n",
              "  .colab-df-quickchart-complete:disabled:hover {\n",
              "    background-color: var(--disabled-bg-color);\n",
              "    fill: var(--disabled-fill-color);\n",
              "    box-shadow: none;\n",
              "  }\n",
              "\n",
              "  .colab-df-spinner {\n",
              "    border: 2px solid var(--fill-color);\n",
              "    border-color: transparent;\n",
              "    border-bottom-color: var(--fill-color);\n",
              "    animation:\n",
              "      spin 1s steps(1) infinite;\n",
              "  }\n",
              "\n",
              "  @keyframes spin {\n",
              "    0% {\n",
              "      border-color: transparent;\n",
              "      border-bottom-color: var(--fill-color);\n",
              "      border-left-color: var(--fill-color);\n",
              "    }\n",
              "    20% {\n",
              "      border-color: transparent;\n",
              "      border-left-color: var(--fill-color);\n",
              "      border-top-color: var(--fill-color);\n",
              "    }\n",
              "    30% {\n",
              "      border-color: transparent;\n",
              "      border-left-color: var(--fill-color);\n",
              "      border-top-color: var(--fill-color);\n",
              "      border-right-color: var(--fill-color);\n",
              "    }\n",
              "    40% {\n",
              "      border-color: transparent;\n",
              "      border-right-color: var(--fill-color);\n",
              "      border-top-color: var(--fill-color);\n",
              "    }\n",
              "    60% {\n",
              "      border-color: transparent;\n",
              "      border-right-color: var(--fill-color);\n",
              "    }\n",
              "    80% {\n",
              "      border-color: transparent;\n",
              "      border-right-color: var(--fill-color);\n",
              "      border-bottom-color: var(--fill-color);\n",
              "    }\n",
              "    90% {\n",
              "      border-color: transparent;\n",
              "      border-bottom-color: var(--fill-color);\n",
              "    }\n",
              "  }\n",
              "</style>\n",
              "\n",
              "  <script>\n",
              "    async function quickchart(key) {\n",
              "      const quickchartButtonEl =\n",
              "        document.querySelector('#' + key + ' button');\n",
              "      quickchartButtonEl.disabled = true;  // To prevent multiple clicks.\n",
              "      quickchartButtonEl.classList.add('colab-df-spinner');\n",
              "      try {\n",
              "        const charts = await google.colab.kernel.invokeFunction(\n",
              "            'suggestCharts', [key], {});\n",
              "      } catch (error) {\n",
              "        console.error('Error during call to suggestCharts:', error);\n",
              "      }\n",
              "      quickchartButtonEl.classList.remove('colab-df-spinner');\n",
              "      quickchartButtonEl.classList.add('colab-df-quickchart-complete');\n",
              "    }\n",
              "    (() => {\n",
              "      let quickchartButtonEl =\n",
              "        document.querySelector('#df-38e80b64-b448-4fe2-954f-549573452946 button');\n",
              "      quickchartButtonEl.style.display =\n",
              "        google.colab.kernel.accessAllowed ? 'block' : 'none';\n",
              "    })();\n",
              "  </script>\n",
              "</div>\n",
              "\n",
              "    </div>\n",
              "  </div>\n"
            ],
            "application/vnd.google.colaboratory.intrinsic+json": {
              "type": "dataframe",
              "summary": "{\n  \"name\": \"rdf\",\n  \"rows\": 2711,\n  \"fields\": [\n    {\n      \"column\": \"variable\",\n      \"properties\": {\n        \"dtype\": \"string\",\n        \"num_unique_values\": 2711,\n        \"samples\": [\n          \"december\",\n          \"division\",\n          \"video\"\n        ],\n        \"semantic_type\": \"\",\n        \"description\": \"\"\n      }\n    },\n    {\n      \"column\": \"value\",\n      \"properties\": {\n        \"dtype\": \"number\",\n        \"std\": 739914491692.5779,\n        \"min\": -14157843842225.965,\n        \"max\": 11584666689061.584,\n        \"num_unique_values\": 2643,\n        \"samples\": [\n          0.1072845458984375,\n          0.08745574951171875,\n          0.0716705322265625\n        ],\n        \"semantic_type\": \"\",\n        \"description\": \"\"\n      }\n    },\n    {\n      \"column\": \"abs\",\n      \"properties\": {\n        \"dtype\": \"number\",\n        \"std\": 733947399037.043,\n        \"min\": 6.103515625e-05,\n        \"max\": 14157843842225.965,\n        \"num_unique_values\": 2593,\n        \"samples\": [\n          0.2853240966796875,\n          0.023303985595703125,\n          0.04402923583984375\n        ],\n        \"semantic_type\": \"\",\n        \"description\": \"\"\n      }\n    }\n  ]\n}"
            }
          },
          "metadata": {},
          "execution_count": 9
        }
      ]
    },
    {
      "cell_type": "markdown",
      "source": [
        "A lot of numbers have high correlations and most strongly influence predictions."
      ],
      "metadata": {
        "id": "91buPI7a2XME"
      }
    },
    {
      "cell_type": "markdown",
      "metadata": {
        "id": "F4_nPFlqypk4"
      },
      "source": [
        "### Q4.\n",
        "\n",
        "Take the matrix of one-hot-encoded tokens (the data, less the outcome variable, `Email Type`) and perform a principal components analysis decomposition with two components. Plot the first two principal components in a scatter plot, and hue the points by whether they are a phishing scam or not. Do you notice any patterns?"
      ]
    },
    {
      "cell_type": "code",
      "source": [
        "reduction = PCA(n_components=2).fit(X_train)\n",
        "Z_train = reduction.transform(X_train)\n",
        "Z_test = reduction.transform(X_test)\n",
        "sns.scatterplot(x=Z_test[:,0],y=Z_test[:,1],hue=y_test)"
      ],
      "metadata": {
        "id": "Rbbpypqx2iMJ",
        "outputId": "d5fa0e18-767b-4470-83b4-aedf20b2219d",
        "colab": {
          "base_uri": "https://localhost:8080/",
          "height": 447
        }
      },
      "execution_count": 10,
      "outputs": [
        {
          "output_type": "execute_result",
          "data": {
            "text/plain": [
              "<Axes: >"
            ]
          },
          "metadata": {},
          "execution_count": 10
        },
        {
          "output_type": "display_data",
          "data": {
            "text/plain": [
              "<Figure size 640x480 with 1 Axes>"
            ],
            "image/png": "[encoded data removed]"
          },
          "metadata": {}
        }
      ]
    },
    {
      "cell_type": "markdown",
      "source": [
        "the scams have higher second components and low first components."
      ],
      "metadata": {
        "id": "6D9TtRfw2ouZ"
      }
    },
    {
      "cell_type": "markdown",
      "metadata": {
        "id": "IgG6eFlDypk4"
      },
      "source": [
        "### Q5.\n",
        "\n",
        "Run a linear regression of $y$ on the first 2,610 principal components of $X$. What is the $R^2$ on the training and test sets? (I used cross validation to determine that 2,610 was approximately optimal, but not all 2,711 components.)\n",
        "\n",
        "How does this performance compare to the linear regression?"
      ]
    },
    {
      "cell_type": "code",
      "source": [
        "reduction = PCA(n_components=2610).fit(X_train)\n",
        "Z_train = reduction.transform(X_train)\n",
        "Z_test = reduction.transform(X_test)\n",
        "\n",
        "lm_k = LinearRegression().fit(Z_train,y_train)\n",
        "y_hat_test = lm_k.predict(Z_test)\n",
        "y_hat_train = lm_k.predict(Z_train)\n",
        "\n",
        "print('Train r2: ', r2_score(y_hat_train,y_train) )\n",
        "print('Test r2: ', r2_score(y_hat_test,y_test) )"
      ],
      "metadata": {
        "id": "QUdKFx493Adx",
        "outputId": "50d50d3e-464e-4144-ac90-97d22038408a",
        "colab": {
          "base_uri": "https://localhost:8080/"
        }
      },
      "execution_count": 11,
      "outputs": [
        {
          "output_type": "stream",
          "name": "stdout",
          "text": [
            "Train r2:  0.692897536096375\n",
            "Test r2:  0.5873905973217184\n"
          ]
        }
      ]
    },
    {
      "cell_type": "markdown",
      "source": [
        "The test set performance was much better and more similar to the training data, indicating it's not overfitting as much and works with generalizing on new data."
      ],
      "metadata": {
        "id": "ZZ6b_F7H3LAP"
      }
    },
    {
      "cell_type": "markdown",
      "metadata": {
        "id": "FBdrWpP1ypk5"
      },
      "source": [
        "### Q6.\n",
        "\n",
        "Explain briefly in your own words what the advantage is in using the principal components to run this high-dimensional regression, rather than the original data."
      ]
    },
    {
      "cell_type": "markdown",
      "source": [
        "Principal components help us make the features more independent and have less multi colinearity. It also helps to reduce the dimensionality of our data, making it easier to work with."
      ],
      "metadata": {
        "id": "dCqfgYG33WIv"
      }
    }
  ],
  "metadata": {
    "kernelspec": {
      "display_name": ".txt",
      "language": "python",
      "name": "python3"
    },
    "language_info": {
      "codemirror_mode": {
        "name": "ipython",
        "version": 3
      },
      "file_extension": ".py",
      "mimetype": "text/x-python",
      "name": "python",
      "nbconvert_exporter": "python",
      "pygments_lexer": "ipython3",
      "version": "3.10.12"
    },
    "colab": {
      "provenance": []
    }
  },
  "nbformat": 4,
  "nbformat_minor": 0
}